{
 "metadata": {
  "name": "",
  "signature": "sha256:8c972769ef2d7e0d49bd6965da958bc36a3521edda8d7ce1196b779d65529670"
 },
 "nbformat": 3,
 "nbformat_minor": 0,
 "worksheets": [
  {
   "cells": [
    {
     "cell_type": "heading",
     "level": 2,
     "metadata": {},
     "source": [
      "\"doit\"\uc73c\ub85c \uc791\uc5c5 \uc790\ub3d9\ud654"
     ]
    },
    {
     "cell_type": "markdown",
     "metadata": {},
     "source": [
      "\uae30\ud6c4 \ub370\uc774\ud130 \ubd84\uc11d\uc73c\ub85c \ud504\ub85c\uc81d\ud2b8\ub97c \uc2dc\uc791\ud55c\ub2e4. \uc774\ubc88 \ubd84\uc11d\uc740 \ub9ce\uc740 \ub2e8\uacc4\uac00 \ud544\uc694\ud55c\ub370, \uc911\uc694\ud55c \uac83\uc740 \uc62c\ubc14\ub978 \uc21c\uc11c\ub300\ub85c \uc218\ud589\ub418\uc5b4\uc57c \ud55c\ub2e4.\n",
      "\ub610\ud55c \ub370\uc774\ud130\uac00 \ud56d\uc0c1 \uc0c8\ub85c\uc6b4 \uad00\uce21\uc790\ub8cc\ub85c \uac31\uc2e0\ub41c\ub2e4. \uadf8\ub798\uc11c, \uc6d0\ucc9c \ub370\uc774\ud130\ub97c \uac31\uc2e0\ud560 \ub54c\ub9c8\ub2e4 \ub2e4\uc2dc \uc2e4\ud589\ud558\uae30 \uc704\ud574\uc11c,\n",
      "\uc5b4\ub5a4 \ub2e8\uacc4\ub97c \uc218\ud589\ud558\uace0 \uc5b4\ub5a4 \ub2e8\uacc4\ub97c \uc218\ud589\ud558\uc9c0 \uc54a\uc558\ub294\uc9c0 \uae30\uc5b5\ud574\uc11c \uae30\ub85d\ud558\ub294 \uac83\ub3c4 \uc6d0\uce58 \uc54a\ub294\ub2e4.\n",
      "\n",
      "\uc774\ub97c \uc704\ud574\uc11c, [doit](http://pydoit.org/)\uc73c\ub85c \ubd88\ub9ac\ub294 \ud30c\uc774\uc36c \ub77c\uc774\ube0c\ub7ec\ub9ac\ub97c \uc0ac\uc6a9\ud55c\ub2e4. \uc774\ubc88 \ud559\uc2b5\uc740 doit\uc758 \uae30\ucd08\ub97c \ub2e4\ub8e8\uc9c0\ub9cc \uace0\uae09 \uc0ac\uc6a9\ubc95\uc5d0 \uad00\uc2ec\uc788\ub294 \uc0ac\ub78c\uc744 \uc704\ud55c \ub9e4\uc6b0 \ud6cc\ub96d\ud55c [\ubb38\uc11c(documentation)](http://pydoit.org/contents.html)\ub3c4 \uc900\ube44\ub418\uc5b4 \uc788\ub2e4."
     ]
    },
    {
     "cell_type": "heading",
     "level": 3,
     "metadata": {},
     "source": [
      "\ud559\uc2b5\ubaa9\ud45c:"
     ]
    },
    {
     "cell_type": "markdown",
     "metadata": {},
     "source": [
      "- \uc758\uc874\uc131(dependency)\uc640 \ub300\uc0c1(target) \uac04 \ucc28\uc774\ub97c \uc124\uba85\ud55c\ub2e4.\n",
      "- \uc21c\uc11c\ub97c \uacb0\uc815\ud574\uc11c, doit\uc774 \uc77c\ub828\uc758 \uc791\uc5c5\uc744 \uc2e4\ud589\ud558\uac8c \ud55c\ub2e4.\n",
      "- doit \uc791\uc5c5 \uc815\uc758\ub2e8\uacc4\uc5d0\uc11c \uc790\ub3d9\ubcc0\uc218(automatic variable)\uac00 \ubc18\ubcf5\uc744 \uc904\uc774\ub294 \ubc29\ubc95\uc744 \uc124\uba85\ud55c\ub2e4.\n",
      "- \uac04\ub2e8\ud55c doit \uc791\uc5c5 \ud658\uacbd\uc124\uc815 \ud30c\uc77c\uc744 \uc791\uc131\ud55c\ub2e4."
     ]
    },
    {
     "cell_type": "heading",
     "level": 2,
     "metadata": {},
     "source": [
      "\uae30\ucd08 doit \ud30c\uc77c"
     ]
    },
    {
     "cell_type": "markdown",
     "metadata": {},
     "source": [
      "\uc791\uc5c5\ud574\uc57c\ud558\ub294 \uc6d0\ub370\uc774\ud130(raw data)\ub97c \uc0b4\ud3b4\ubcf4\uace0 \uc2dc\uc791\ud558\uc790. \uc6d4\ubcc4 \ud3c9\uade0 \uae30\uc628\uacfc \uc6d4\ubcc4 \ucd1d\uc77c\uc870\uc2dc\uac04 \uc815\ubcf4\ub97c \ub2f4\uace0 \uc788\ub294 \ud30c\uc77c\uc774 \ub450\uac1c \uc788\ub2e4."
     ]
    },
    {
     "cell_type": "code",
     "collapsed": false,
     "input": [
      "!ls *.txt"
     ],
     "language": "python",
     "metadata": {},
     "outputs": [
      {
       "output_type": "stream",
       "stream": "stdout",
       "text": [
        "UK_Sunshine_data.txt\n",
        "UK_Tmean_data.txt\n"
       ]
      }
     ],
     "prompt_number": 1
    },
    {
     "cell_type": "markdown",
     "metadata": {},
     "source": [
      "\uc774\uc81c `head` \uba85\ub839\uc5b4\ub97c \uc0ac\uc6a9\ud574\uc11c \ud3c9\uade0 \uae30\uc628 \ud30c\uc77c \ub0b4\ubd80\ub97c \uc0b4\uc9dd \ub4e4\uc5ec\ub2e4 \ubcf4\uc790:"
     ]
    },
    {
     "cell_type": "code",
     "collapsed": false,
     "input": [
      "!head UK_Tmean_data.txt"
     ],
     "language": "python",
     "metadata": {},
     "outputs": [
      {
       "output_type": "stream",
       "stream": "stdout",
       "text": [
        "UK Mean Temperature (Degrees C)\r\n",
        "Areal series, starting from 1910\r\n",
        "Allowances have been made for topographic, coastal and urban effects where relationships are found to exist.\r\n",
        "Seasons: Winter=Dec-Feb, Spring=Mar-May, Summer=June-Aug, Autumn=Sept-Nov. (Winter: Year refers to Jan/Feb).\r\n",
        "Monthly values are ranked and displayed to 1 dp and seasonal/annual values to 2 dp. Where values are equal, rankings are based in order of year descending.\r\n",
        "Data are provisional from January 2012 & Winter 2012 Last updated 01/12/2012\r\n",
        "\r\n",
        "\tJAN\tYear\tFEB\tYear\tMAR\tYear\tAPR\tYear\tMAY\tYear\tJUN\tYear\tJUL\tYear\tAUG\tYear\tSEP\tYear\tOCT\tYear\tNOV\tYear\tDEC\tYear\tWIN\tYear\tSPR\tYear\tSUM\tYear\tAUT\tYear\tANN\tYear\r\n",
        "\t6.3\t1916\t6.8\t1998\t8\t1938\t10.7\t2011\t12.2\t2008\t15\t1976\t17.8\t2006\t17.3\t1995\t15.2\t2006\t12.2\t2001\t8.8\t1994\t6.9\t1934\t5.81\t1989\t9.15\t2011\t15.78\t2006\t11.39\t2006\t9.73\t2006\r\n",
        "\t5.9\t2007\t5.9\t1990\t7.9\t1957\t10.2\t2007\t12\t1992\t14.9\t1940\t17.3\t1983\t17.1\t1997\t14.6\t1949\t11.8\t1969\t8.7\t2011\t6.6\t1988\t5.56\t2007\t9.05\t2007\t15.77\t2003\t11.26\t2011\t9.64\t2011\r\n"
       ]
      }
     ],
     "prompt_number": 2
    },
    {
     "cell_type": "markdown",
     "metadata": {},
     "source": [
      "\ud30c\uc77c\uc5d0 \ub2f4\uae34 \ub370\uc774\ud130\ub294 \ub9e4\uc6b0 \ub054\uc9c1\ud55c \ubc29\uc2dd\uc73c\ub85c \uad6c\uc131\ub418\uc5b4 \uc788\ub2e4. \ud30c\uc77c \uc11c\ub450\uc5d0 \ub370\uc774\ud130 \uad6c\uc870\ub97c \uc124\uba85\ud558\ub294 7\uc904\uc774 \uc788\ub294\ub370 \ub3c4\uc6c0\uc774 \ub41c\ub2e4 (\ub9cc\uc57d `#` \uac19\uc740 \uc8fc\uc11d\ubb38\uc790\ub85c \uc2dc\uc791\ud55c\ub2e4\uba74 \ub354 \uc88b\uc744 \uc218\ub3c4 \uc788\uc9c0\ub9cc)\n",
      "\n",
      "\ubcf8\uc9c8\uc801\uc73c\ub85c \ub9e4\uc6d4\ub9c8\ub2e4 \ub450 \uce7c\ub7fc\uc774 \uc788\ub2e4. \uccab\ubc88\uc9f8 \uce7c\ub7fc\uc740 \ud574\ub2f9\uc6d4 \ud3c9\uade0 \uae30\uc628\uc815\ubcf4\ub97c \ub2f4\uace0 \uc788\uace0, \ub450\ubc88\uc9f8 \uce7c\ub7fc\uc5d0\ub294 \uce21\uc815\ub144\ub3c4 \uc815\ubcf4\uac00 \ub2f4\uaca8\uc788\ub2e4. \ubaa8\ub4e0 \uce7c\ub7fc\uc740 \uc624\ub984\ucc28\uc21c \uc628\ub3c4\ub85c \uc815\ub82c\ub418\uc5b4 \uc788\ub2e4.\n",
      "\n",
      "\uace0\ub9d9\uac8c\ub3c4, \uc120\ubc30 \ub300\ud559\uc6d0 \uc878\uc5c5\uc0dd\uc774 \ud30c\uc774\uc36c \uc2a4\ud06c\ub9bd\ud2b8\ub97c \uc791\uc131\ud574\ub450\uace0 \ub5a0\ub098\uc11c \ub370\uc774\ud130\ub97c \uc880\ub354 \uc0ac\uc6a9\ud558\uae30 \uc26c\uc6b4 \ubc29\uc2dd\uc73c\ub85c \ub9c8\uc0ac\uc9c0\ub97c \ud560 \uc218 \uc788\ub2e4. \ud30c\uc774\uc36c \uc2a4\ud06c\ub9bd\ud2b8\uac00 \uc5b4\ub5a4 \uc791\uc5c5\uc744 \uc218\ud589\ud558\ub294\uc9c0 \uc0b4\ud3b4\ubcf4\uc790."
     ]
    },
    {
     "cell_type": "code",
     "collapsed": false,
     "input": [
      "!python reformat_weather_data.py UK_Tmean_data.txt | head"
     ],
     "language": "python",
     "metadata": {},
     "outputs": [
      {
       "output_type": "stream",
       "stream": "stderr",
       "text": [
        "Traceback (most recent call last):\n",
        "  File \"C:\\Python34\\lib\\site-packages\\pandas\\__init__.py\", line 7, in <module>\n",
        "    from pandas import hashtable, tslib, lib\n",
        "  File \"pandas\\src\\numpy.pxd\", line 157, in init pandas.hashtable (pandas\\hashtable.c:23776)\n",
        "ImportError: No module named 'numpy'\n",
        "\n",
        "During handling of the above exception, another exception occurred:\n",
        "\n",
        "Traceback (most recent call last):\n",
        "  File \"reformat_weather_data.py\", line 1, in <module>\n",
        "    import pandas as pd\n",
        "  File \"C:\\Python34\\lib\\site-packages\\pandas\\__init__.py\", line 13, in <module>\n",
        "    \"extensions first.\".format(module))\n",
        "ImportError: C extension: No module named 'numpy' not built. If you want to import pandas from the source directory, you may need to run 'python setup.py build_ext --inplace' to build the C extensions first.\n"
       ]
      }
     ],
     "prompt_number": 5
    },
    {
     "cell_type": "markdown",
     "metadata": {},
     "source": [
      "\ud55c\uacb0 \uc88b\ub2e4. \ub370\uc774\ud130 \ubd84\uc11d \ud30c\uc774\ud504\ub77c\uc778 \uccab\ubc88\uc9f8 \uc791\uc5c5\uc740 `UK_Tmean_data.txt` \ud30c\uc77c\uc5d0 \ud30c\uc774\uc36c \uc2a4\ud06c\ub9bd\ud2b8\ub97c \uc2e4\ud589\ud558\uace0, \uc0c8\uc774\ub984 `UK_Tmean_data.reformatted.txt`\uc73c\ub85c \uc800\uc7a5\ud558\ub294 \uac83\uc774\ub2e4. \"doit\" \ub77c\uc774\ube0c\ub7ec\ub9ac\ub97c \uc0ac\uc6a9\ud574\uc11c \ud30c\uc774\uc36c\uc774 \uc790\ub3d9\uc73c\ub85c \uc6d0\ub370\uc774\ud130\uac00 \uac31\uc2e0\ub420 \ub54c\ub9c8\ub2e4 \ub370\uc774\ud130 \ud615\uc2dd\uc744 \ubc14\uafb8\ub294 \uc791\uc5c5\uc744 \uc218\ud589\ud558\uac8c \ub9cc\ub4e4\uace0 \uc2f6\ub2e4.\n",
      "\n",
      "\uccab\uc9f8\ub85c, doit\uc774 \uc124\uce58\ub418\uc5c8\ub294\uc9c0 \ud655\uc2e4\ud788 \ud55c\ub2e4:"
     ]
    },
    {
     "cell_type": "code",
     "collapsed": false,
     "input": [
      "!pip install doit"
     ],
     "language": "python",
     "metadata": {},
     "outputs": [
      {
       "output_type": "stream",
       "stream": "stdout",
       "text": [
        "Requirement already satisfied (use --upgrade to upgrade): doit in c:\\python34\\lib\\site-packages\n",
        "Requirement already satisfied (use --upgrade to upgrade): six in c:\\python34\\lib\\site-packages (from doit)\n",
        "Cleaning up...\n"
       ]
      }
     ],
     "prompt_number": 7
    },
    {
     "cell_type": "markdown",
     "metadata": {},
     "source": [
      "\uc77c\ubc18\uc801\uc73c\ub85c, \ud30c\uc774\uc36c \ud30c\uc77c \ub0b4\ubd80\uc5d0 \uc0c1\uc138 \uc791\uc5c5\uc815\ubcf4\ub97c \ub2f4\uace0 \uc788\ub294 \ud30c\uc77c\uc744 \ub9cc\ub4e0\ub2e4. \uc57d\uac04\uc758 `make` \uc791\uc5c5 \uacbd\ud5d8\uc774 \uc788\ub2e4\uba74, \ud574\ub2f9 \ud30c\uc77c\uc740 `makefile`\uc5d0 \uc0c1\uc751\ud55c\ub2e4.\n",
      "\uadf8\ub9ac\uace0 \ub098\uc11c, \ub9cc\uc57d \ud130\ubbf8\ub110\uc5d0\uc11c `doit` \uba85\ub839\uc5b4\ub97c \uc2e4\ud589\ud558\uba74, `doit`\uc740 \ud604\uc7ac \ub514\ub809\ud1a0\ub9ac\uc5d0\uc11c `dodo.py`\ub77c\ub294 \ud658\uacbd\uc124\uc815 \ud30c\uc77c\uc744 \ucc3e\uc544\uc11c, \ud30c\uc77c\ub85c\ubd80\ud130 \uc791\uc5c5\ub0b4\uc6a9\uc744 \uc77c\uace0 \uac31\uc2e0\ub418\uc9c0 \uc54a\uc740 \uc791\uc5c5\uc744 \uc2e4\ud589\ud55c\ub2e4. \ub610\ud55c `dodo.py`\uac00 \uc544\ub2cc \ud30c\uc77c\uc744 \uc77d\uc5b4 `doit`\uc5d0\uac8c \uc791\uc5c5\uc744 \uc218\ud589\ud558\uac8c \ud558\ub824\uba74, `doit -f <name_of_task_file.py>`\uac19\uc740 \ubc29\uc2dd\ub3c4 \uc0ac\uc6a9\ud560 \uc218 \uc788\ub2e4.\n",
      "\n",
      "\uc774\ubc88 \ud559\uc2b5\uc5d0\uc11c \ud3b8\uc758\uc131\uc744 \uc704\ud574\uc11c, iPython magic\uc744 \uc0ac\uc6a9\ud574\uc11c iPython \ub178\ud2b8\ubd81\uc5d0\uc11c `doit` \ucf54\ub4dc\ub97c \uc2e4\ud589\ud55c\ub2e4. \uc774 \uacbd\uc6b0\uc5d0, \uc140(cell) \uc791\uc5c5\ub0b4\uc6a9\uc774 `dodo.py` \ud30c\uc77c\uc5d0 \uc785\ub825\ud55c \uac83\uc5d0 \uc0c1\uc751\ud55c\ub2e4."
     ]
    },
    {
     "cell_type": "code",
     "collapsed": false,
     "input": [
      "%load_ext doitmagic"
     ],
     "language": "python",
     "metadata": {},
     "outputs": [],
     "prompt_number": 5
    },
    {
     "cell_type": "markdown",
     "metadata": {},
     "source": [
      "Here is our first doit file, containing just one task:"
     ]
    },
    {
     "cell_type": "code",
     "collapsed": false,
     "input": [
      "%%doit\n",
      "\n",
      "# one_task.py\n",
      "\n",
      "def task_reformat_temperature_data():\n",
      "    \"\"\"Reformats the raw temperature data file for easier analysis\"\"\"\n",
      "    \n",
      "    return {\n",
      "        'file_dep': ['UK_Tmean_data.txt'],\n",
      "        'targets': ['UK_Tmean_data.reformatted.txt'],\n",
      "        'actions': ['python reformat_weather_data.py UK_Tmean_data.txt > UK_Tmean_data.reformatted.txt'],\n",
      "    }\n"
     ],
     "language": "python",
     "metadata": {},
     "outputs": [
      {
       "output_type": "stream",
       "stream": "stdout",
       "text": [
        ".  reformat_temperature_data\n"
       ]
      }
     ],
     "prompt_number": 6
    },
    {
     "cell_type": "markdown",
     "metadata": {},
     "source": [
      "\ud30c\uc774\uc36c \ud568\uc218\uc5d0 `doit`\uc774 \uc218\ud589\ud560 \ub2e8\uc77c \uc791\uc5c5\uc744 \uc815\uc758\ub418\uc5b4 \uc788\ub2e4. \ud568\uc218\uac00 \uc218\ud589\ud558\ub294 \uac83\uc740 \uc791\uc5c5\uc5d0 \ub300\ud55c \ud658\uacbd\uc124\uc815 \uc815\ubcf4\ub97c \ub2f4\uace0 \uc788\ub294 \ub515\uc154\ub108\ub9ac\ub97c \ubc18\ud658\ud558\ub294 \uac83\uc774\ub2e4. \uc880\ub354 \uad6c\uccb4\uc801\uc73c\ub85c \ud574\ub2f9 \ud658\uacbd\uc124\uc815\uc5d0 \ub2f4\uae34 \uad6c\uc131\uc694\uc18c\ub97c \uc0b4\ud3b4\ubcf4\uc790.\n",
      "\n",
      "\uc791\uc5c5\ub0b4\uc6a9\uc5d0 \ud30c\uc77c \ud55c\uac1c\uc5d0 \uc758\uc874\uc131\uc774 \ub098\uc640 \uc788\ub2e4, `file_dep`. - `doit`\uc5d0\uac8c \uc9c0\uc2dc\ud574\uc11c \ud574\ub2f9 \uc791\uc5c5\uc740 `UK_Tmean_data.txt` \ud30c\uc77c\uc5d0 \uc758\uc874\uc131\uc774 \uc788\uc5b4\uc11c, \ub9cc\uc57d \uc774 \ud30c\uc77c\uc774 \ubcc0\uacbd\ub418\uba74, \uc791\uc5c5\uc744 \ub2e4\uc2dc \uc2e4\ud589\ud560 \ud544\uc694\uac00 \uc788\ub2e4.\n",
      "\n",
      "\ub610\ud55c, `target`\ub3c4 \uc788\ub2e4 - `doit`\uc5d0\uac8c \uc9c0\uc2dc\ud574\uc11c, \ud574\ub2f9 \uc791\uc5c5\uc740 `UK_Tmean_data.reformatted.txt` \ud30c\uc77c\uc744 \uc0dd\uc131\ud55c\ub2e4. \ub9cc\uc57d `UK_Tmean_data.reformatted.txt` \ud30c\uc77c\uc774 \uc874\uc7ac\ud558\uc9c0 \uc54a\ub294\ub2e4\uba74, \ud30c\uc77c \uc0dd\uc131 \uc791\uc5c5\ub3c4 \uc2e4\ud589\ud560 \ud544\uc694\uac00 \uc788\ub2e4. \n",
      "\n",
      "\ub9c8\uc9c0\ub9c9\uc73c\ub85c, \ud574\ub2f9 \uc791\uc5c5\uc5d0\ub294 `action`\uc774 \ud55c\uac1c \uc788\ub2e4. \ud574\ub2f9 \uc791\uc5c5\uc774 \ucd5c\uc2e0\uc73c\ub85c \uac31\uc2e0\ub418\uc9c0 \uc54a\uc558\ub2e4\uace0 `doit`\uc774 \ud310\ub2e8\ud560 \ub54c, \ud574\ub2f9 \uc791\uc5c5 \uc815\uc758 `action` \ubd80\ubd84\uc740 \uc2e4\ud589\ub420 \uba85\ub839 \ubaa9\ub85d\uc774 \ub41c\ub2e4.\n",
      "\n",
      "\uc774\uc81c `doit` \uc791\uc5c5\uacb0\uacfc\ub97c \uc0b4\ud3b4\ubcf4\uc790. `Doit`\uc740 \ubcc4\ub3c4 \ud589\uc5d0 \uac01 \uc791\uc5c5 \uc774\ub984\uc744 \ucd9c\ub825\ud55c\ub2e4. \ub2e8\uc9c0 \ud55c\uac00\uc9c0 \uc791\uc5c5\ub9cc \ubc30\uc815\ud588\uae30 \ub54c\ubb38\uc5d0 \ub2e8\uc9c0 \ud55c \uc904\ub9cc \ucd9c\ub825\uacb0\uacfc\ub85c \ub098\uc628\ub2e4.\n",
      "\uba85\uc2dc\uc801\uc73c\ub85c \uc791\uc5c5\uba85\uce6d\uc744 \ubd80\uc5ec\ud558\uc9c0 \uc54a\uc558\uae30 \ub54c\ubb38\uc5d0, `doit`\uc740 \ud568\uc218 \uc774\ub984\uc73c\ub85c \uac08\uc74c\ud55c\ub2e4. \uc791\uc5c5\uba85\uce6d \uc55e\uc5d0 \uc810(`.`)\uc774 \uc758\ubbf8\ud558\ub294 \uac83\uc740 `doit`\uc774 \uc2e4\uc81c\ub85c \uc791\uc5c5 \uc2e4\ud589\uc744 \uacb0\uc815\ud588\ub2e4\ub294 \uac83\uc774\ub2e4. \ub2e4\uc2dc \uc140\uc744 \uc2e4\ud589\ud558\uace0 \ubb34\uc5c7\uc774 \ubcc0\uacbd\ub418\uc5c8\ub294\uc9c0 \uc0b4\ud3b4\ubcf8\ub2e4.\n",
      "\n",
      "\uc774\uc81c \uc791\uc5c5\uba85\uce6d\uc5d0 \ub300\uc26c \ub450\uac1c(`--`)\uac00 \ubd99\ub294\ub2e4. \uc774\uac83\uc774 \uc758\ubbf8\ud558\ub294 \ubc14\ub294 `doit`\uc774 \uc791\uc5c5 \ud55c\uac00\uc9c0\ub97c \ucc3e\uc558\uc73c\ub098, `UK_Tmean_data.reformatted.txt` \ud30c\uc77c\uc774 \uc774\ubbf8 \uc874\uc7ac\ud558\uace0 `UK_Tmean_data.txt` \ud30c\uc77c\uc774 \ubcc0\uacbd\ub418\uc9c0 \uc54a\uc558\uae30 \ub54c\ubb38\uc5d0, \ub2e4\uc2dc \uc791\uc5c5\uc744 \uc2e4\ud589\ud558\uc9c0 \uc54a\uc558\ub2e4\ub294 \uac83\uc774\ub2e4.\n",
      "\n",
      "\uc0c8\ud30c\uc77c\uc744 \ud655\uc778\ud574\uc11c, \uc791\uc131\ud55c \uc791\uc5c5\uc774 \uc6d0\ud558\ub294 \uc791\uc5c5\uc778\uc9c0 \ud655\uc2e4\ud788 \ud655\uc778\ud55c\ub2e4:"
     ]
    },
    {
     "cell_type": "code",
     "collapsed": false,
     "input": [
      "!head UK_Tmean_data.reformatted.txt"
     ],
     "language": "python",
     "metadata": {},
     "outputs": [
      {
       "output_type": "stream",
       "stream": "stdout",
       "text": [
        "month,value\r\n",
        "1910-01-01,2.6\r\n",
        "1910-02-01,2.6\r\n",
        "1910-03-01,4.0\r\n",
        "1910-04-01,6.4\r\n",
        "1910-05-01,9.5\r\n",
        "1910-06-01,12.3\r\n",
        "1910-07-01,14.0\r\n",
        "1910-08-01,13.8\r\n",
        "1910-09-01,11.8\r\n"
       ]
      }
     ],
     "prompt_number": 7
    },
    {
     "cell_type": "markdown",
     "metadata": {},
     "source": [
      "\ub9cc\uc57d \ud30c\uc77c\ub9c8\ub2e4 \uc791\uc5c5\uaddc\uce59 \ud558\ub098\ub9cc \ud5c8\uc6a9\ub41c\ub2e4\uba74, \uc218\uc791\uc5c5\uc73c\ub85c \uba85\ub839\uc5b4\ub97c \ud0c0\uc774\ud551\ud558\uac70\ub098, \uc791\uc740 \uc258\uc2a4\ud06c\ud54d\ud2b8\ub97c \uc791\uc131\ud558\ub294 \uac83\uacfc \ub2e4\ub984\uc774 \uc5c6\ub2e4.\n",
      "\uc6b4\uc88b\uac8c\ub3c4, `doit`\uc73c\ub85c \ub2e8\ud558\ub098\uc758 \ud658\uacbd\uc124\uc815 \ud30c\uc77c\uc5d0 \uc6d0\ud558\ub294 \ub9cc\ud07c \uc791\uc5c5\uaddc\uce59\uc744 \uc801\uc744 \uc218 \uc788\ub2e4.\n",
      "\n",
      "`two_tasks.py`\uc73c\ub85c \uba85\uba85\ub41c \ub610\ub2e4\ub978 `doit` \ud30c\uc77c\uc774 \uc788\ub294\ub370 \ub450 \ud30c\uc77c `UK_Tmean_data.txt`\uc640 `UK_Sunshine_data.txt` \ud615\ud0dc\ub97c \ubc14\uafb8\ub294 \uc791\uc5c5\uaddc\uce59\uc744 \uac16\uace0 \uc788\ub2e4.\n",
      "\"Tmean\" \ud639\uc740 \"Sunshine\"\uc5d0 \ub300\ud55c \uac83\ub9cc \uc81c\uc678\ud558\uace0 \uaddc\uce59\uc740 \ub3d9\uc77c\ud558\ub2e4; \ub098\uc911\uc5d0 \uaddc\uce59\uc744 \ud558\ub098\ub85c \ud1b5\ud569\ud558\ub294 \ubc29\ubc95\uc744 \uc0b4\ud3b4\ubcfc \uac83\uc774\ub2e4."
     ]
    },
    {
     "cell_type": "code",
     "collapsed": false,
     "input": [
      "%%doit\n",
      "\n",
      "# two_tasks.py\n",
      "\n",
      "def task_reformat_temperature_data():\n",
      "    \"\"\"Reformats the raw temperature data file for easier analysis\"\"\"\n",
      "        \n",
      "    return {\n",
      "        'file_dep': ['UK_Tmean_data.txt'],\n",
      "        'targets': ['UK_Tmean_data.reformatted.txt'],\n",
      "        'actions': ['python reformat_weather_data.py UK_Tmean_data.txt > UK_Tmean_data.reformatted.txt'],\n",
      "}\n",
      "\n",
      "def task_reformat_sunshine_data():\n",
      "    \"\"\"Reformats the raw sunshine data file for easier analysis\"\"\"\n",
      "\n",
      "    return {\n",
      "        'file_dep': ['UK_Sunshine_data.txt'],\n",
      "        'targets': ['UK_Sunshine_data.reformatted.txt'],\n",
      "        'actions': ['python reformat_weather_data.py UK_Sunshine_data.txt > UK_Sunshine_data.reformatted.txt'],\n",
      "    }"
     ],
     "language": "python",
     "metadata": {},
     "outputs": [
      {
       "output_type": "stream",
       "stream": "stdout",
       "text": [
        "-- reformat_temperature_data\n",
        ".  reformat_sunshine_data\n"
       ]
      }
     ],
     "prompt_number": 8
    },
    {
     "cell_type": "markdown",
     "metadata": {},
     "source": [
      "\uc774\uc81c, `doit`\uc774 \ub450 \uc791\uc5c5\uc744 \ubc1c\uacac\ud55c \uac83\uc744 \ubcfc \uc218 \uc788\ub2e4.\n",
      "`doit`\uc774 \uae30\uc628 \ub370\uc774\ud130\uc5d0 \ub300\ud574\uc11c \ub2e4\uc2dc \ud615\uc2dd\uc744 \ubcc0\uacbd\ud558\ub294 \uc791\uc5c5\uc744 \uc2e4\ud589\ud560 \ud544\uc694\uac00 \uc5c6\ub2e4\uace0 \ud310\ub2e8\ud558\uc9c0\ub9cc, \uc77c\uc870\ub7c9 \ub370\uc774\ud130\uc5d0 \ub300\ud574\uc11c\ub294 \ud615\uc2dd\uc744 \ubc14\uafb8\ub294 \uc791\uc5c5\uc744 \uc2e4\ud589\ud55c\ub2e4.\n",
      "\n",
      "\ub9cc\uc57d \uc140\uc744 \ub2e4\uc2dc \uc2e4\ud589\ud55c\ub2e4\uba74, `doit`\uc774 \uc5b4\ub290 \uc791\uc5c5\ub3c4 \uc2e4\ud589\ud560 \ud544\uc694\uac00 \uc5c6\ub2e4\uace0 \ud310\ub2e8\ud55c \uacb0\uacfc\ub97c \ubcfc \uc218 \uc788\ub2e4.\n",
      "\n",
      "\uc8fc\ubaa9\ud560 \ud55c\uac00\uc9c0\ub294 \ub9cc\uc57d \uc791\uc5c5\uac04\uc5d0 \ub9cc\uc871\ub418\uc5b4\uc57c\ub418\ub294 \uc758\uc874\uc131\uc774 \uc5c6\ub2e4\uba74 `doit`\uc774 \uc815\uc758\ub41c \uc21c\uc11c\uc5d0 \ub9de\ucdb0 \uaddc\uce59\uc744 \uc2e4\ud589\ud55c\ub2e4.\n",
      "\ub610\ud55c \uc774\uc6a9\uac00\ub2a5\ud55c \uc911\uc559\ucc98\ub9ac\uc7a5\uce58\uac00 \ud55c\uac1c \uc774\uc0c1\uc774\ub77c\uba74 \ubcd1\ub82c\ub85c\ub3c4 \ucc98\ub9ac\ud560 \uc218 \uc788\ub2e4- \ub098\uc911\uc5d0 \uc774\ub7f0 \uc544\uc774\ub514\uc5b4\ub294 \ub2e4\uc2dc \ub2e4\ub8f0 \uac83\uc774\ub2e4.\n",
      "\n",
      "\uc0c1\uae30 \uc608\uc81c\uac00 \ubcf4\uc5ec\uc8fc\ub294 \ub2e4\ub978 \uba74\uc740 \ud558\ub098\ub9cc \ud55c\uaddc\uce59\uc5d0\uc11c \ub300\uc0c1\uc774 \ub420 \uc218 \uc788\uace0 \ub2e4\ub978 \uac83\uc5d0\ub294 \uc804\uc81c\uc870\uac74\uc774\ub41c\ub2e4. `dodo.py`\uc5d0 \uc5b8\uae09\ub41c \ud30c\uc77c \uc0ac\uc774 \uc758\uc874\uc131\uc740 \uc77c\ubc29\ud5a5 \uadf8\ub798\ud504\ub97c \uad6c\uc131\ud55c\ub2e4. `doit`\uc774 \uc2e4\ud589\ub418\uae30 \uc704\ud574\uc11c \ud574\ub2f9 \uadf8\ub798\ud504\ub294 \uc5b4\ub5a4 \uc0ac\uc774\ud074\ub3c4 \ud3ec\ud568\ud574\uc11c\ub294 \uc54a\ub41c\ub2e4. \uc608\ub97c \ub4e4\uc5b4, X\uac00 Y\uc5d0 \uc758\uc874\ud558\uace0, Y\uac00 Z\uc5d0 \uc758\uc874\ud558\uace0, Z\uac00 X\uc5d0 \uc758\uc874\ud55c\ub2e4\uba74, \ubaa8\ub4e0 \uac83\uc774 \ub2e4\ub978 \ubb34\uc5b8\uac00\uc5d0 \uc758\uc874\ud55c\ub2e4.\n",
      "\uadf8\ub798\uc11c `doit`\uc774 \uac00\uc7a5 \uba3c\uc800 \uc2e4\ud589\ud560 \uac83\uc740 \uc544\ubb34\uac83\ub3c4 \uc5c6\uac8c\ub41c\ub2e4. \ub9cc\uc57d \uc791\uc5c5\uc0ac\uc774\uc5d0 \uc0ac\uc774\ud074\uc774 \ud0d0\uc9c0\ub418\uba74, `doit`\uc740 \uc624\ub958 \uba54\uc2dc\uc9c0\ub97c \ucd9c\ub825\ud558\uace0 \uc815\uc9c0\ud55c\ub2e4.\n",
      "\n",
      "\uc774\uc804\uc5d0 \uc778\uc9c0\ud588\ub4dc\uc2f1, \ud574\ub2f9 \ud30c\uc77c\uc5d0 \uc0c1\ub2f9\ud55c \uc911\ubcf5\uc774 \uc788\ub2e4.\n",
      "\uba3c\uc800 \ud30c\uc77c\uba85\uce6d\uc774 \uc791\uc5c5\uc815\uc758\uc640 \uc791\uc5c5\ub3d9\uc791(action)\uc5d0 \ubc18\ubcf5\ub41c\ub2e4.\n",
      "\uc6b4\uc88b\uac8c\ub3c4, \uc791\uc5c5\ub3d9\uc791\uc744 \uc791\uc131\ud560 \ub54c, `doit`\uc744 \ud1b5\ud574\uc11c \ubcc0\uc218\uc5d0 \uc811\uadfc\ud560 \uc788\ub2e4.\n",
      "\n",
      "\ud30c\uc774\uc36c `%` \ud615\uc2dd\uc790(formatter)\ub97c \uc0ac\uc6a9\ud574\uc11c `Doit`\uc774 \ub3d9\uc791\uc744 \uc815\uc758\ud558\ub294 \ubb38\uc790\uc5f4\uc5d0 \uc791\uc5c5 \uc758\uc874\uc131\uacfc \ub300\uc0c1\uc744 \uce58\ud658\ud55c\ub2e4.\n",
      "\ub2e4\uc74c\uacfc \uac19\uc774 \ub3d9\uc791\ud55c\ub2e4."
     ]
    },
    {
     "cell_type": "code",
     "collapsed": false,
     "input": [
      "%%doit\n",
      "\n",
      "# automatic_variables.py\n",
      "\n",
      "def task_reformat_temperature_data():\n",
      "    \"\"\"Reformats the raw temperature data file for easier analysis\"\"\"\n",
      "    \n",
      "    return {\n",
      "        'actions': ['python reformat_weather_data.py %(dependencies)s > %(targets)s'],\n",
      "        'file_dep': ['UK_Tmean_data.txt'],\n",
      "        'targets': ['UK_Tmean_data.reformatted.txt'],\n",
      "    }\n",
      "\n",
      "def task_reformat_sunshine_data():\n",
      "    \"\"\"Reformats the raw sunshine data file for easier analysis\"\"\"\n",
      "    \n",
      "    return {\n",
      "        'actions': ['python reformat_weather_data.py %(dependencies)s > %(targets)s'],\n",
      "        'file_dep': ['UK_Sunshine_data.txt'],\n",
      "        'targets': ['UK_Sunshine_data.reformatted.txt'],\n",
      "    }"
     ],
     "language": "python",
     "metadata": {},
     "outputs": [
      {
       "output_type": "stream",
       "stream": "stdout",
       "text": [
        "-- reformat_temperature_data\n",
        "-- reformat_sunshine_data\n"
       ]
      }
     ],
     "prompt_number": 9
    },
    {
     "cell_type": "markdown",
     "metadata": {},
     "source": [
      "\ub354 \ub098\uc544\uc84c\uc9c0\ub9cc, \uc774\uc81c\ub294 \ub3d9\uc791(action)\uc774 \ub450 \uc791\uc5c5\uc0ac\uc774\uc5d0 \ub3d9\uc77c\ud558\ub2e4. \uc758\uc874\uc131\uacfc \ub300\uc0c1\ub9cc \ub2e4\ub974\ub2e4.\n",
      "\n",
      "\ub2e4\uc74c\uc808\uc5d0\uc11c \ub098\uba38\uc9c0 \uc911\ubaa9\uc744 \uc81c\uac70\ud560 \uac83\uc774\ub2e4."
     ]
    },
    {
     "cell_type": "heading",
     "level": 3,
     "metadata": {},
     "source": [
      "\ub3c4\uc804\uacfc\uc81c:"
     ]
    },
    {
     "cell_type": "markdown",
     "metadata": {},
     "source": [
      "1. \"Hello World!\" \ud14d\uc2a4\ud2b8\ub97c \ub2f4\uace0 \uc788\ub294 `hello.txt`\ub77c\ub294 \uc0c8\ub85c\uc6b4 \ud30c\uc77c\uc744 \uc0dd\uc131\ud558\ub294\ub370 \"echo\" \uc720\ub2c9\uc2a4 \uba85\ub839\uc5b4\ub97c \uc0ac\uc6a9\ud558\ub294 \uc791\uc5c5\uc744 \uc791\uc131\ud558\ub77c.\n",
      "2. \ub2e4\uc74c \uc791\uc5c5 \ud658\uacbd\uc124\uc815 \ud30c\uc77c\uc774 \uc8fc\uc5b4\uc9c4\ub2e4\uba74, `doit`\uc774 \uc5b4\ub5a4 \uc21c\uc11c\ub85c \uc791\uc5c5\uc744 \uc2e4\ud589\ud560\uae4c\uc694?"
     ]
    },
    {
     "cell_type": "code",
     "collapsed": false,
     "input": [
      "def task_giraffe():\n",
      "    \n",
      "    return {\n",
      "            'targets' : ['giraffe.txt'],\n",
      "            'actions' : ['touch %(targets)s']\n",
      "           }\n",
      "\n",
      "def task_zebra():\n",
      "    \n",
      "    return {\n",
      "            'targets' : ['zebra.txt'],\n",
      "            'file_dep': ['lion.txt'],\n",
      "            'actions' : ['touch %(targets)s']\n",
      "           }\n",
      "\n",
      "def task_lion():\n",
      "    \n",
      "    return {\n",
      "            'targets' : ['lion.txt'],\n",
      "            'actions' : ['touch %(targets)s']\n",
      "           }"
     ],
     "language": "python",
     "metadata": {},
     "outputs": [],
     "prompt_number": 10
    }
   ],
   "metadata": {}
  }
 ]
}