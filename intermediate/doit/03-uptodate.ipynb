{
 "metadata": {
  "name": "",
  "signature": "sha256:3ea42fbfbaaa5db24aac0e062c2f5d6fef3cbbade39daf411c490d85d5675c7f"
 },
 "nbformat": 3,
 "nbformat_minor": 0,
 "worksheets": [
  {
   "cells": [
    {
     "cell_type": "heading",
     "level": 2,
     "metadata": {},
     "source": [
      "`doit`\uc774 \uc791\uc5c5\uc744 \uc2e4\ud589\ud560 \ud544\uc694\uac00 \uc788\ub294\uc9c0 \ud310\ub2e8\ud558\uae30"
     ]
    },
    {
     "cell_type": "heading",
     "level": 3,
     "metadata": {},
     "source": [
      "\ud559\uc2b5\ubaa9\ud45c:"
     ]
    },
    {
     "cell_type": "markdown",
     "metadata": {},
     "source": [
      "- \uc791\uc5c5\uc774 \ub2e4\ub978 \ud30c\uc77c\uc5d0 \uc758\uc874\uc131\uc744 \uac00\uc9c8 \ub54c, \uc791\uc5c5\uc744 \uac31\uc2e0\ud560\uc9c0 `doit`\uc774 \uc5b4\ub5bb\uac8c \uacb0\uc815\ud558\ub294\uc9c0 \uc124\uba85\ud55c\ub2e4.\n",
      "- \ub9cc\uc57d \uc791\uc5c5\uc774 \uc5b4\ub5a4 \uc758\uc874\uc131\ub3c4 \uac16\uc9c0 \ubabb\ud55c\ub2e4\uba74 \uc5b4\ub5bb\uac8c \uacb0\uc815\ub418\ub294\uc9c0\ub97c \uc124\uba85\ud55c\ub2e4.\n",
      "- \uc791\uc5c5 \ud658\uacbd\uc124\uc815\uc744 \ubcc0\uacbd\ud574\uc11c `doit`\uc774 \uac31\uc2e0\uc5ec\ubd80\ub97c \uacb0\uc815\ud558\ub3c4\ub85d \ud558\ub294 \ubc29\ubc95\uc744 \uc124\uba85\ud55c\ub2e4.\n",
      "- `doit`\uc774 \uc5b4\ub290 \ud568\uc218\ub294 \uc791\uc5c5\uc774\uace0 \uc5b4\ub294 \uac83\uc740 \uc544\ub2cc\uc9c0\ub97c \uc5b4\ub5bb\uac8c \uacb0\uc815\ud558\ub294\uc9c0 \uc124\uba85\ud55c\ub2e4."
     ]
    },
    {
     "cell_type": "markdown",
     "metadata": {},
     "source": [
      "\ub2e4\uc74c\uc5d0 \uc2a4\ud06c\ub9bd\ud2b8\uac00 \uc788\ub294\ub370, \uc6d0\ub370\uc774\ud130 \ud30c\uc77c \ubaa8\ub450 \ub2e4\uc6b4\ub85c\ub4dc\ud588\ub2e4. \ub370\uc774\ud130 \ub2e4\uc6b4\ub85c\ub4dc \uc791\uc5c5\uc740 \ub2e4\uc18c \uc2dc\uac04\uc774 \uac78\ub9b0\ub2e4. \uadf8\ub798\uc11c, \ubaa8\ub4e0 \uc62c\ubc14\ub978 \ud30c\uc77c\uba85\uc744 \uc0c8\ub85c\uc6b4 \ud30c\uc774\uc36c \ud568\uc218\ub85c \uacc4\uc0b0\ud558\ub294 \ubd80\ubd84\uc744 \ub9ac\ud329\ud1a0\ub9c1\ud588\ub2e4."
     ]
    },
    {
     "cell_type": "code",
     "collapsed": false,
     "input": [
      "%load_ext doitmagic"
     ],
     "language": "python",
     "metadata": {},
     "outputs": [],
     "prompt_number": 1
    },
    {
     "cell_type": "code",
     "collapsed": false,
     "input": [
      "%%doit\n",
      "\n",
      "# download_all_data.py\n",
      "\n",
      "data_sets = ['Tmean', 'Sunshine']\n",
      "\n",
      "def get_data_file_parameters(data_type):\n",
      "    \"\"\"Takes a string describing the type of climate data, returns url and file name for that data\"\"\"\n",
      "    \n",
      "    base_url = 'http://www.metoffice.gov.uk/climate/uk/datasets/{0}/ranked/UK.txt'\n",
      "    data_url = base_url.format(data_type)\n",
      "    data_target = 'UK_{0}_data.txt'.format(data_type)\n",
      "    return data_url, data_target\n",
      "\n",
      "def task_download_data():\n",
      "    \"\"\"Downloads all raw data files from the Met Office website\"\"\"\n",
      "\n",
      "    for data_type in data_sets:\n",
      "        data_url, data_target = get_data_file_parameters(data_type)\n",
      "        yield {\n",
      "            'actions': ['wget -O %(targets)s {0}'.format(data_url)],\n",
      "            'targets': [ data_target ],\n",
      "            'name' : data_type,\n",
      "        }\n",
      "\n",
      "def task_reformat_data():\n",
      "    \"\"\"Reformats all raw files for easier analysis\"\"\"\n",
      "\n",
      "    for data_type in data_sets:\n",
      "        yield {\n",
      "            'actions': ['python reformat_weather_data.py %(dependencies)s > %(targets)s'],\n",
      "            'file_dep': ['UK_{}_data.txt'.format(data_type)],\n",
      "            'targets': ['UK_{}_data.reformatted.txt'.format(data_type)],\n",
      "            'name': 'UK_{}_data.txt'.format(data_type),\n",
      "        }"
     ],
     "language": "python",
     "metadata": {},
     "outputs": [
      {
       "output_type": "stream",
       "stream": "stdout",
       "text": [
        ".  download_data:Tmean\n",
        ".  download_data:Sunshine\n",
        "-- reformat_data:UK_Sunshine_data.txt\n",
        "-- reformat_data:UK_Tmean_data.txt\n"
       ]
      },
      {
       "output_type": "stream",
       "stream": "stderr",
       "text": [
        "--2014-04-05 12:08:57--  http://www.metoffice.gov.uk/climate/uk/datasets/Tmean/ranked/UK.txt\n",
        "Resolving www.metoffice.gov.uk (www.metoffice.gov.uk)... 23.63.99.234, 23.63.99.216\n",
        "Connecting to www.metoffice.gov.uk (www.metoffice.gov.uk)|23.63.99.234|:80... connected.\n",
        "HTTP request sent, awaiting response... 200 OK\n",
        "Length: 25576 (25K) [text/plain]\n",
        "Saving to: \u2018UK_Tmean_data.txt\u2019\n",
        "\n",
        "     0K .......... .......... ....                            100% 1.51M=0.02s\n",
        "\n",
        "2014-04-05 12:08:57 (1.51 MB/s) - \u2018UK_Tmean_data.txt\u2019 saved [25576/25576]\n",
        "\n",
        "--2014-04-05 12:08:57--  http://www.metoffice.gov.uk/climate/uk/datasets/Sunshine/ranked/UK.txt\n",
        "Resolving www.metoffice.gov.uk (www.metoffice.gov.uk)... 23.63.99.216, 23.63.99.234\n",
        "Connecting to www.metoffice.gov.uk (www.metoffice.gov.uk)|23.63.99.216|:80... connected.\n",
        "HTTP request sent, awaiting response... 200 OK\n",
        "Length: 20986 (20K) [text/plain]\n",
        "Saving to: \u2018UK_Sunshine_data.txt\u2019\n",
        "\n",
        "     0K .......... ..........                                 100% 6.48M=0.003s\n",
        "\n",
        "2014-04-05 12:08:57 (6.48 MB/s) - \u2018UK_Sunshine_data.txt\u2019 saved [20986/20986]\n",
        "\n"
       ]
      }
     ],
     "prompt_number": 2
    },
    {
     "cell_type": "markdown",
     "metadata": {},
     "source": [
      "\uc5ec\uae30\uc11c \ub208\uc5ec\uaca8\ubcfc \uc810\uc740 \ub450\uac00\uc9c0\ub2e4. \uccab\uc9f8\ub85c, \uc0c8\ub85c\uc6b4 \ud30c\uc774\uc36c \ud568\uc218, `get_data_file_parameters`\ub294 `task_`\ub85c \uc2dc\uc791\ub418\uc9c0 \uc54a\ub294\ub2e4. \uadf8\ub798\uc11c `doit`\uc774 \uc791\uc5c5\uc73c\ub85c \uc2e4\ud589\ud560 \ud544\uc694\ub294 \uc5c6\ub2e4.\n",
      "\n",
      "\ub450\ubc88\uc9f8\ub85c, \uc5bc\ub9c8\ub098 \ub9ce\uc774 \uc0c1\uae30 \uc2a4\ud06c\ub9bd\ud2b8\ub97c \uc2e4\ud589\ud558\ub294\uc9c0 \uad00\uacc4\uc5c6\uc774, `doit`\uc740 \ud56d\uc0c1 \ub370\uc774\ud130 \ud30c\uc77c\uc744 \ub2e4\uc2dc \ub2e4\uc6b4\ub85c\ub4dc\ud55c\ub2e4. \ud30c\uc77c\ub4e4\uc774 \uc5b4\ub514\uc5d0\ub3c4 \uc758\uc874\uc131\uc744 \uac16\uc9c0 \uc54a\uae30 \ub54c\ubb38\uc5d0, `doit`\uc740 \ud30c\uc77c\ub4e4\uc758 \uac31\uc2e0\uc5ec\ubd80\ub97c \ud655\uc778\ud560 \uc218 \uc5c6\ub2e4. \uc774\ub7f0 \uc5f0\uc720\ub85c \uc778\ud574\uc11c \ud56d\uc0c1 \ub2e4\uc2dc \ub2e4\uc6b4\ub85c\ub4dc\ud55c\ub2e4.\n",
      "\n",
      "\ub9cc\uc57d \uc0ac\ub78c\uc774 \uc2a4\uc2a4\ub85c \uc774 \ubaa8\ub4e0 \uc791\uc5c5\uc744 \uc218\ud589\ud55c\ub2e4\uba74, \uc544\ub9c8\ub3c4 \ub9e4\ub2ec \uc6d4\ubcc4 \uae30\uc628 \ub370\uc774\ud130\ub9cc \uac31\uc2e0\ud560 \uac83\uc774\ub2e4.\n",
      "`Doit`\uc744 \uac00\uc9c0\uace0 \uc791\uc5c5 \ud658\uacbd\uc124\uc815 \ub515\uc154\ub108\ub9ac\uc5d0 `uptodate`\ub77c\ub294 \ub610\ub2e4\ub978 \ub9e4\uac1c\ubcc0\uc218\ub97c \uc815\uc758\ud560 \uc218 \uc788\ub2e4.\n",
      "\ud30c\uc774\uc36c \ud568\uc218\ub97c \uc815\uc758\ud574\uc11c `doit`\uc774 \uc791\uc5c5\uc744 \ub2e4\uc2dc \uc2e4\ud589\ud560\uc9c0 \uc5ec\ubd80\ub97c \uacb0\uc815\ud558\uac8c\ud55c\ub2e4.\n",
      "\n",
      "\uc774\uac83\uc774 `doit`\uc744 \uc0ac\uc6a9\ud558\ub294 \uac00\uc7a5 \ud070 \uc787\uc810\uc911 \ud558\ub098\ub2e4: \uc791\uc131\ud560 \uc218 \uc788\ub294 \ud30c\uc774\uc36c \ucf54\ub4dc\ub294 \ubaa8\ub450 \ud0c0\ub2f9\ud558\ub2e4. \uc0ac\uc2e4 \ubd80\uacfc\uc5c5\uc744 \uc0dd\uc131\ud558\ub294\ub370 \uc791\uc5c5 \uc0dd\uc131\uae30\ub97c \uc0ac\uc6a9\ud558\ub294 \uac83 \uc870\ucc28\ub3c4 \uad00\ub840\uc5d0 \ubd88\uacfc\ud558\ub2e4. \uc791\uc5c5\ud658\uacbd\uc124\uc815\uc744 \ub515\uc154\ub108\ub9ac\ub85c \uc791\uc131\ub41c \uc784\uc758 \ud30c\uc774\uc36c \uc2a4\ud06c\ub9bd\ud2b8\ub3c4 `doit`\uacfc \ud568\uaed8 \ub3d9\uc791\ud55c\ub2e4.\n",
      "\n",
      "\uc6d0\ub370\uc774\ud130 \ud30c\uc77c\uc744 \ucd5c\uc2e0 \uc0c1\ud0dc\ub85c \uc720\uc9c0\ud558\ub294 \ubb38\uc81c\ub85c \ub3cc\uc544\uac00\uc11c, \ubcf8\uc778\uc774 \uc2a4\uc2a4\ub85c \ud568\uc218\ub97c \uc791\uc131\ud574\uc11c \uc6d0\ub370\uc774\ud130 \ud30c\uc77c\uc774 \uc5bc\ub9c8\ub098 \uc624\ub798\ub418\uc5c8\ub294\uc9c0 \uc810\uac80\ud560 \uc218 \uc788\ub2e4. \ud558\uc9c0\ub9cc, `doit`\uc5d0\ub294 \uace0\ub9d9\uac8c\ub3c4 \ubc88\uac70\ub85c\uc6b4 \uc791\uc5c5\uc744 \uc218\ud589\ud574\uc8fc\ub294 \uc720\ud2f8\ub9ac\ud2f0 \ud568\uc218\uac00 \ub530\ub77c\uc628\ub2e4.\n",
      "4\uc8fc \ud6c4\uc5d0 \ub370\uc774\ud130 \ud30c\uc77c \uae30\ud55c\uc744 \ub9cc\ub8cc\uc2dc\ud0a4\uc790:"
     ]
    },
    {
     "cell_type": "code",
     "collapsed": false,
     "input": [
      "%%doit\n",
      "\n",
      "# monthly_raw_data_update.py\n",
      "\n",
      "import datetime\n",
      "from doit.tools import timeout \n",
      "\n",
      "data_sets = ['Tmean', 'Sunshine']\n",
      "\n",
      "def get_data_file_parameters(data_type):\n",
      "    \"\"\"Takes a string describing the type of climate data, returns url and file name for that data\"\"\"\n",
      "\n",
      "    base_url = 'http://www.metoffice.gov.uk/climate/uk/datasets/{0}/ranked/UK.txt'\n",
      "    data_url = base_url.format(data_type)\n",
      "    data_target = 'UK_{0}_data.txt'.format(data_type)\n",
      "    return data_url, data_target\n",
      "\n",
      "def task_download_data():\n",
      "    \"\"\"Downloads all raw data files from the Met Office website\"\"\"\n",
      "\n",
      "    for data_type in data_sets:\n",
      "        data_url, data_target = get_data_file_parameters(data_type)\n",
      "        yield {\n",
      "            'actions': ['wget -O %(targets)s {0}'.format(data_url)],\n",
      "            'targets': [ data_target ],\n",
      "            'name' : data_type,\n",
      "            'uptodate': [timeout(datetime.timedelta(weeks=4))],\n",
      "\n",
      "        }\n",
      "\n",
      "def task_reformat_data():\n",
      "    \"\"\"Reformats all raw files for easier analysis\"\"\"\n",
      "\n",
      "    for data_type in data_sets:\n",
      "        yield {\n",
      "            'actions': ['python reformat_weather_data.py %(dependencies)s > %(targets)s'],\n",
      "            'file_dep': ['UK_{}_data.txt'.format(data_type)],\n",
      "            'targets': ['UK_{}_data.reformatted.txt'.format(data_type)],\n",
      "            'name': 'UK_{}_data.txt'.format(data_type),\n",
      "        }"
     ],
     "language": "python",
     "metadata": {},
     "outputs": [
      {
       "output_type": "stream",
       "stream": "stdout",
       "text": [
        ".  download_data:Tmean\n",
        ".  download_data:Sunshine\n",
        "-- reformat_data:UK_Sunshine_data.txt\n",
        "-- reformat_data:UK_Tmean_data.txt\n"
       ]
      },
      {
       "output_type": "stream",
       "stream": "stderr",
       "text": [
        "--2014-04-05 12:08:57--  http://www.metoffice.gov.uk/climate/uk/datasets/Tmean/ranked/UK.txt\n",
        "Resolving www.metoffice.gov.uk (www.metoffice.gov.uk)... 23.63.99.234, 23.63.99.216\n",
        "Connecting to www.metoffice.gov.uk (www.metoffice.gov.uk)|23.63.99.234|:80... connected.\n",
        "HTTP request sent, awaiting response... 200 OK\n",
        "Length: 25576 (25K) [text/plain]\n",
        "Saving to: \u2018UK_Tmean_data.txt\u2019\n",
        "\n",
        "     0K .......... .......... ....                            100% 1.87M=0.01s\n",
        "\n",
        "2014-04-05 12:08:57 (1.87 MB/s) - \u2018UK_Tmean_data.txt\u2019 saved [25576/25576]\n",
        "\n",
        "--2014-04-05 12:08:57--  http://www.metoffice.gov.uk/climate/uk/datasets/Sunshine/ranked/UK.txt\n",
        "Resolving www.metoffice.gov.uk (www.metoffice.gov.uk)... 23.63.99.216, 23.63.99.234\n",
        "Connecting to www.metoffice.gov.uk (www.metoffice.gov.uk)|23.63.99.216|:80... connected.\n",
        "HTTP request sent, awaiting response... 200 OK\n",
        "Length: 20986 (20K) [text/plain]\n",
        "Saving to: \u2018UK_Sunshine_data.txt\u2019\n",
        "\n",
        "     0K .......... ..........                                 100% 6.86M=0.003s\n",
        "\n",
        "2014-04-05 12:08:57 (6.86 MB/s) - \u2018UK_Sunshine_data.txt\u2019 saved [20986/20986]\n",
        "\n"
       ]
      }
     ],
     "prompt_number": 3
    },
    {
     "cell_type": "markdown",
     "metadata": {},
     "source": [
      "\ub450\ubc88\uc9f8\ub85c \uc0c1\uae30 \uc2a4\ud06c\ub9bd\ud2b8\ub97c \uc2e4\ud589\ud558\uba74, `doit`\uc774 \uc6d0\ub370\uc774\ud130\ud30c\uc77c\uc774 4\uc8fc \uacbd\uacfc\ub418\uc9c0 \uc54a\uc558\ub2e4\ub294 \uac83\uc744 \uc54c\uace0\uc11c \ub2e4\uc2dc \ub2e4\uc6b4\ub85c\ub4dc\ud558\uc9c0 \uc54a\ub294\ub2e4. \n",
      "\n",
      "\ubaa8\ub4e0 \uc791\uc5c5\uc744 \uc774\uc640 \uac19\uc740 \ubc29\uc2dd\uc73c\ub85c \uc815\uc758\ud558\ub294 \uac00\uc7a5 \ud070 \uc787\uc810\uc740 \uc2e0\uaddc \ub370\uc774\ud130\uc14b\uc744 \ucd94\uac00\ud558\ub294 \uac83\uc774 \ud6e8\uc52c \ub354 \uc27d\ub2e4\ub294 \uac83\uc774\ub2e4.\n",
      "\ub370\uc774\ud130\uc14b \ubaa9\ub85d\uc5d0 `Rainfall`\uc744 \ucd94\uac00\ud574\uc11c \uac15\uc218\ub7c9 \ub370\uc774\ud130\ub97c \ub2e4\uc6b4\ub85c\ub4dc\ud558\uc790:"
     ]
    },
    {
     "cell_type": "code",
     "collapsed": false,
     "input": [
      "%%doit\n",
      "\n",
      "# rainfall_data.py\n",
      "\n",
      "import datetime\n",
      "from doit.tools import timeout \n",
      "\n",
      "data_sets = ['Tmean', 'Sunshine', 'Rainfall']\n",
      "\n",
      "def get_data_file_parameters(data_type):\n",
      "    \"\"\"Takes a string describing the type of climate data, returns url and file name for that data\"\"\"\n",
      "\n",
      "    base_url = 'http://www.metoffice.gov.uk/climate/uk/datasets/{0}/ranked/UK.txt'\n",
      "    data_url = base_url.format(data_type)\n",
      "    data_target = 'UK_{0}_data.txt'.format(data_type)\n",
      "    return data_url, data_target\n",
      "\n",
      "def task_download_data():\n",
      "    \"\"\"Downloads all raw data files from the Met Office website\"\"\"\n",
      "\n",
      "    for data_type in data_sets:\n",
      "        data_url, data_target = get_data_file_parameters(data_type)\n",
      "        yield {\n",
      "            'actions': ['wget -O %(targets)s {0}'.format(data_url)],\n",
      "            'targets': [ data_target ],\n",
      "            'name' : data_type,\n",
      "            'uptodate': [timeout(datetime.timedelta(weeks=4))],\n",
      "\n",
      "        }\n",
      "\n",
      "def task_reformat_data():\n",
      "    \"\"\"Reformats all raw files for easier analysis\"\"\"\n",
      "\n",
      "    for data_type in data_sets:\n",
      "        yield {\n",
      "            'actions': ['python reformat_weather_data.py %(dependencies)s > %(targets)s'],\n",
      "            'file_dep': ['UK_{}_data.txt'.format(data_type)],\n",
      "            'targets': ['UK_{}_data.reformatted.txt'.format(data_type)],\n",
      "            'name': 'UK_{}_data.txt'.format(data_type),\n",
      "        }"
     ],
     "language": "python",
     "metadata": {},
     "outputs": [
      {
       "output_type": "stream",
       "stream": "stdout",
       "text": [
        ".  download_data:Rainfall\n",
        "-- download_data:Tmean\n",
        "-- download_data:Sunshine\n",
        ".  reformat_data:UK_Rainfall_data.txt\n",
        "-- reformat_data:UK_Sunshine_data.txt\n",
        "-- reformat_data:UK_Tmean_data.txt\n"
       ]
      },
      {
       "output_type": "stream",
       "stream": "stderr",
       "text": [
        "--2014-04-05 12:08:58--  http://www.metoffice.gov.uk/climate/uk/datasets/Rainfall/ranked/UK.txt\n",
        "Resolving www.metoffice.gov.uk (www.metoffice.gov.uk)... 23.63.99.234, 23.63.99.216\n",
        "Connecting to www.metoffice.gov.uk (www.metoffice.gov.uk)|23.63.99.234|:80... connected.\n",
        "HTTP request sent, awaiting response... 200 OK\n",
        "Length: 25518 (25K) [text/plain]\n",
        "Saving to: \u2018UK_Rainfall_data.txt\u2019\n",
        "\n",
        "     0K .......... .......... ....                            100% 1.68M=0.01s\n",
        "\n",
        "2014-04-05 12:08:58 (1.68 MB/s) - \u2018UK_Rainfall_data.txt\u2019 saved [25518/25518]\n",
        "\n"
       ]
      }
     ],
     "prompt_number": 4
    },
    {
     "cell_type": "markdown",
     "metadata": {},
     "source": [
      "\uc774\uc81c \ubc18\uc9dd\ubc18\uc9dd \ube5b\ub098\ub294 \ub2e4\uc74c \ub2e8\uacc4 \ubd84\uc11d\uc791\uc5c5\uc744 \uc704\ud574\uc11c \uc62c\ubc14\ub978 \ud615\uc2dd\uc73c\ub85c \ub9de\ucdb0\uc9c4 \uac15\uc218\ub7c9 \ub370\uc774\ud130\uac00 \uc900\ube44\ub418\uc5c8\ub2e4:"
     ]
    },
    {
     "cell_type": "code",
     "collapsed": false,
     "input": [
      "!head UK_Rainfall_data.reformatted.txt"
     ],
     "language": "python",
     "metadata": {},
     "outputs": [
      {
       "output_type": "stream",
       "stream": "stdout",
       "text": [
        "month,value\r\n",
        "1910-01-01,111.4\r\n",
        "1910-02-01,79.5\r\n",
        "1910-03-01,75.5\r\n",
        "1910-04-01,69.1\r\n",
        "1910-05-01,66.4\r\n",
        "1910-06-01,65.3\r\n",
        "1910-07-01,81.6\r\n",
        "1910-08-01,90.3\r\n",
        "1910-09-01,92.0\r\n"
       ]
      }
     ],
     "prompt_number": 5
    },
    {
     "cell_type": "heading",
     "level": 3,
     "metadata": {},
     "source": [
      "\ub3c4\uc804\uacfc\uc81c:"
     ]
    },
    {
     "cell_type": "markdown",
     "metadata": {},
     "source": [
      "- `doit`\uc744 \uc0ac\uc6a9\ud574\uc11c \ub9cc\uc57d 20\ucd08\uc774\uc0c1 \uacbd\uacfc\ub418\uba74 \uc6d0\ub370\uc774\ud130\ub97c \ub2e4\uc6b4\ub85c\ub4dc\ud558\ub3c4\ub85d, `rainfall_data.py` \ud30c\uc77c\uc744 \ud3b8\uc9d1\ud55c\ub2e4.\n",
      "- `uptodate` \ud658\uacbd\uc124\uc815 \ud589\uc744 download_data \uc791\uc5c5\uc5d0\uc11c reformat_data task \uc791\uc5c5\uc73c\ub85c \uc774\ub3d9\ud558\uba74 \ubb34\uc2a8 \uc77c\uc774 \ubc1c\uc0dd\ud560\uae4c?\n",
      "- \uc2dc\ub3c4\ud574\ubcf4\uace0, \ub9de\ub294\uc9c0 \uc0b4\ud3b4\ubcf4\ub77c!"
     ]
    },
    {
     "cell_type": "code",
     "collapsed": false,
     "input": [],
     "language": "python",
     "metadata": {},
     "outputs": []
    }
   ],
   "metadata": {}
  }
 ]
}