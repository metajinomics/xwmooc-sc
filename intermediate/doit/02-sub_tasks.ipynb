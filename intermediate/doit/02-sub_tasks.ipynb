{
 "metadata": {
  "name": "",
  "signature": "sha256:b55307b798118457a588347c1fd1a2b389d3373169b378dca74265376a23582a"
 },
 "nbformat": 3,
 "nbformat_minor": 0,
 "worksheets": [
  {
   "cells": [
    {
     "cell_type": "heading",
     "level": 2,
     "metadata": {},
     "source": [
      "\ubd80\uc791\uc5c5\uc744 \uc0ac\uc6a9\ud574\uc11c \ube44\uc2b7\ud55c \uc720\ud615 \uc791\uc5c5 \uc815\uc758\ud558\uae30"
     ]
    },
    {
     "cell_type": "heading",
     "level": 2,
     "metadata": {},
     "source": [
      "\ud559\uc2b5\ubaa9\ud45c:"
     ]
    },
    {
     "cell_type": "markdown",
     "metadata": {},
     "source": [
      "- \ubd80\uacfc\uc5c5(sub-task) \uadf8\ub8f9 \uc0dd\uc131\ud558\ub294 \ubc29\ubc95\uc744 \uc124\uba85\ud55c\ub2e4.\n",
      "- \ubd80\uacfc\uc5c5 \uc815\uc758\uc5d0 \uc5b4\ub5a4 \ucd94\uac00 \ud658\uacbd\uc124\uc815\uc774 \ud544\uc694\ud55c\uc9c0 \uc124\uba85\ud55c\ub2e4.\n",
      "- \ud604\uc7ac \uc791\uc5c5\uc744 \uac1c\uc870\ud574\uc11c \ubd80\uacfc\uc5c5 \uc0dd\uc131\uae30\ub85c \ubcc0\ud658\ud55c\ub2e4."
     ]
    },
    {
     "cell_type": "markdown",
     "metadata": {},
     "source": [
      "\uc9c0\ub09c\ubc88 \ud559\uc2b5\uc5d0\uc11c \uc0dd\uc131\ud55c `doit` \ud30c\uc77c\uc744 \ub2e4\ub978 \uad00\uc810\uc73c\ub85c \uc0b4\ud3b4\ubcf4\uc790."
     ]
    },
    {
     "cell_type": "code",
     "collapsed": false,
     "input": [
      "%load_ext doitmagic"
     ],
     "language": "python",
     "metadata": {},
     "outputs": [],
     "prompt_number": 1
    },
    {
     "cell_type": "code",
     "collapsed": false,
     "input": [
      "%%doit\n",
      "\n",
      "# automatic_variables.py\n",
      "\n",
      "def task_reformat_temperature_data():\n",
      "    \"\"\"Reformats the raw temperature data file for easier analysis\"\"\"\n",
      "    \n",
      "    return {\n",
      "        'actions': ['python reformat_weather_data.py %(dependencies)s > %(targets)s'],\n",
      "        'file_dep': ['UK_Tmean_data.txt'],\n",
      "        'targets': ['UK_Tmean_data.reformatted.txt'],\n",
      "    }\n",
      "\n",
      "def task_reformat_sunshine_data():\n",
      "    \"\"\"Reformats the raw sunshine data file for easier analysis\"\"\"\n",
      "    \n",
      "    return {\n",
      "        'actions': ['python reformat_weather_data.py %(dependencies)s > %(targets)s'],\n",
      "        'file_dep': ['UK_Sunshine_data.txt'],\n",
      "        'targets': ['UK_Sunshine_data.reformatted.txt'],\n",
      "    }"
     ],
     "language": "python",
     "metadata": {},
     "outputs": [
      {
       "output_type": "stream",
       "stream": "stdout",
       "text": [
        "-- reformat_temperature_data\n",
        "-- reformat_sunshine_data\n"
       ]
      }
     ],
     "prompt_number": 2
    },
    {
     "cell_type": "markdown",
     "metadata": {},
     "source": [
      "\ub450\uc791\uc5c5\uc740 \ubaa8\ub450 \ub3d9\uc77c\ud55c \ub3d9\uc791\uc744 \uacf5\uc720\ud558\uc9c0\ub9cc, \uc758\uc874\uc131\uacfc \ub300\uc0c1\ub9cc \ub2e4\ub974\ub2e4\ub294 \ucc28\uc774\uc810\uc744 \uc54c\uc544\ucc28\ub838\ub2e4.\n",
      "\n",
      "\ub9e4\uc6b0 \uc720\uc0ac\ud55c \uc218\ub9ce\uc740 \uc791\uc5c5\uc744 \uc2e4\ud589\ud560 \ub54c, `\ubd80\uacfc\uc5c5(sub-tasks)`\uc774\ub77c\ub294 `doit` \uae30\ub2a5\uc744 \uc0ac\uc6a9\ud560 \uc218 \uc788\ub2e4."
     ]
    },
    {
     "cell_type": "code",
     "collapsed": false,
     "input": [
      "%%doit\n",
      "\n",
      "# sub_tasks.py\n",
      "\n",
      "data_sets = ['Tmean', 'Sunshine']\n",
      "\n",
      "def task_reformat_data():\n",
      "    \"\"\"Reformats all raw files for easier analysis\"\"\"\n",
      "\n",
      "    for data_type in data_sets:\n",
      "        yield {\n",
      "            'actions': ['python reformat_weather_data.py %(dependencies)s > %(targets)s'],\n",
      "            'file_dep': ['UK_{}_data.txt'.format(data_type)],\n",
      "            'targets': ['UK_{}_data.reformatted.txt'.format(data_type)],\n",
      "            'name': 'UK_{}_data.txt'.format(data_type),\n",
      "        }\n",
      "    "
     ],
     "language": "python",
     "metadata": {},
     "outputs": [
      {
       "output_type": "stream",
       "stream": "stdout",
       "text": [
        "-- reformat_data:UK_Sunshine_data.txt\n",
        ".  reformat_data:UK_Tmean_data.txt\n"
       ]
      }
     ],
     "prompt_number": 3
    },
    {
     "cell_type": "markdown",
     "metadata": {},
     "source": [
      "\uc0c1\uae30 \uc608\uc81c\uc5d0\uc11c, \uc791\uc5c5\uc744 \uc815\uc758\ud558\ub294 \ud568\uc218\ub294 \uc791\uc5c5\ud558\ub098\ub3c4 \ubc18\ud658\ud558\uc9c0 \uc54a\ub294\ub2e4. \ub300\uc2e0\uc5d0, \ud30c\uc774\uc36c \uc0dd\uc131\uae30 \uac1d\uccb4\ub97c \ubc18\ud658\ud55c\ub2e4. \ud30c\uc774\uc36c \uc0dd\uc131\uae30 \uac1d\uccb4\ub294 \ub9ce\uc740 \ubd80\uacfc\uc5c5\uc744 \ubc18\ud658\ud55c\ub2e4. \ud30c\uc774\uc36c \uc0dd\uc131\uae30(generator)\ub97c \ub4e4\uc5b4\ubd24\ub294\uac00?\n",
      "\n",
      "\ub9cc\uc57d \uadf8\ub807\uc9c0 \uc54a\ub2e4\uba74, \ub2e4\uc74c\uc5d0 \uc791\uc740 \ub370\ubaa8\uc2dc\uc5f0\uc774 \uc788\ub2e4."
     ]
    },
    {
     "cell_type": "code",
     "collapsed": false,
     "input": [
      "def not_a_generator():\n",
      "    for i in range(5):\n",
      "        return i\n",
      "    \n",
      "not_a_generator()"
     ],
     "language": "python",
     "metadata": {},
     "outputs": [
      {
       "metadata": {},
       "output_type": "pyout",
       "prompt_number": 4,
       "text": [
        "0"
       ]
      }
     ],
     "prompt_number": 4
    },
    {
     "cell_type": "code",
     "collapsed": false,
     "input": [
      "def is_a_generator():\n",
      "    for i in range(5):\n",
      "        yield i\n",
      "        \n",
      "is_a_generator()"
     ],
     "language": "python",
     "metadata": {},
     "outputs": [
      {
       "metadata": {},
       "output_type": "pyout",
       "prompt_number": 5,
       "text": [
        "<generator object is_a_generator at 0x3052780>"
       ]
      }
     ],
     "prompt_number": 5
    },
    {
     "cell_type": "code",
     "collapsed": false,
     "input": [
      "def is_a_generator():\n",
      "    for i in range(5):\n",
      "        yield i\n",
      "        \n",
      "g = is_a_generator()\n",
      "\n",
      "for x in g:\n",
      "    print x"
     ],
     "language": "python",
     "metadata": {},
     "outputs": [
      {
       "output_type": "stream",
       "stream": "stdout",
       "text": [
        "0\n",
        "1\n",
        "2\n",
        "3\n",
        "4\n"
       ]
      }
     ],
     "prompt_number": 6
    },
    {
     "cell_type": "markdown",
     "metadata": {},
     "source": [
      "\uc774\ubc88 \ud559\uc2b5\uc5d0\uc11c \uc0dd\uc131\uae30\uc5d0 \uad00\ud574\uc11c \ub9e4\uc6b0 \uc790\uc138\ud558\uac8c \ub2e4\ub8e8\uc9c0\ub97c \uc54a\uc744 \uac83\uc774\ub2e4. \ud558\uc9c0\ub9cc, \uae30\uc5b5\ud574\uc57c\ub418\ub294 \ud575\uc2ec\uc801\uc778 \uc0ac\ud56d\uc740 \ud568\uc218\ub294 `return`\uc744 \uc0ac\uc6a9\ud574\uc11c \ub2e8\uc77c \ucd9c\ub825\uacb0\uacfc\ub97c \ubc18\ud658\ud55c\ub2e4. \ubc18\uba74\uc5d0 \uc0dd\uc131\uae30\ub294 `yield`\ub97c \uc0ac\uc6a9\ud574\uc11c \uc21c\ucc28\uc801\uc73c\ub85c \ucd9c\ub825 \uc2dc\ud000\uc2a4\ub97c \ubc18\ud658\ud55c\ub2e4. `doit`\uc774 \uc791\uc5c5 \ub515\uc154\ub108\ub9ac\ub97c \uc0b0\ucd9c\ud558\ub294 \uc0dd\uc131\uae30\ub97c \ubc1c\uacac\ud558\uba74, \uc77c\ub828\uc758 \ubd80\uacfc\uc5c5\uc744 \uc0dd\uc131\ud55c\ub2e4.\n",
      "\n",
      "\ub2e4\uc2dc \ud30c\uc77c \ucd9c\ub825\uacb0\uacfc\ub97c \uc0b4\ud3b4\ubcf4\uc790. \uc2e0\uaddc \uc0dd\uc131\uae30\ub85c \uc0dd\uc131\ub41c \ubaa8\ub4e0 \uc791\uc5c5\uc740 \ub3d9\uc77c\ud55c \uba85\uce6d\uc73c\ub85c \uc2dc\uc791\ud55c\ub2e4: `reformat_data`, \uc774 \uba85\uce6d\uc740 \uc0dd\uc131\uae30 \uc774\ub984\uc5d0\uc11c\ubd80\ud130 \uac00\uc838\uc654\ub2e4. \uc774 \ub2e4\uc74c\uc5d0 `basename`\ub85c \ubd88\ub9ac\ub294\ub370, \ucf5c\ub860\ub2e4\uc74c\uc5d0 \ubd80\uacfc\uc5c5 \uba85\uce6d\uc774 \ub530\ub77c\uc628\ub2e4. \uc791\uc5c5 \ub515\uc154\ub108\ub9ac `name` \ud0a4\ub97c \uc124\uc815\ud574\uc11c \uba85\uc2dc\uc801\uc73c\ub85c \uac01 \ubd80\uacfc\uc5c5 \uba85\uce6d\uc744 \ubd80\uc5ec\ud55c \uac83\uc5d0 \uc8fc\ubaa9\ud55c\ub2e4.\n",
      "\n",
      "\ub9cc\uc57d \ubd80\uacfc\uc5c5 \uba85\uce6d\uc744 \uc124\uc815\ud558\uc9c0 \uc54a\ub294\ub2e4\uba74 \ubb34\uc2a8 \uc77c\uc774 \ubc1c\uc0dd\ud560\uae4c?"
     ]
    },
    {
     "cell_type": "code",
     "collapsed": false,
     "input": [
      "%%doit\n",
      "\n",
      "# sub_tasks_no_name.py\n",
      "\n",
      "data_sets = ['Tmean', 'Sunshine']\n",
      "\n",
      "def task_reformat_data():\n",
      "    \"\"\"Reformats all raw files for easier analysis\"\"\"\n",
      "\n",
      "    for data_type in data_sets:\n",
      "        yield {\n",
      "            'actions': ['python reformat_weather_data.py %(dependencies)s > %(targets)s'],\n",
      "            'file_dep': ['UK_{}_data.txt'.format(data_type)],\n",
      "            'targets': ['UK_{}_data.reformatted.txt'.format(data_type)],\n",
      "        }\n",
      "    "
     ],
     "language": "python",
     "metadata": {},
     "outputs": [
      {
       "output_type": "stream",
       "stream": "stderr",
       "text": [
        "ERROR: Task 'reformat_data' must contain field 'name' or 'basename'. {'file_dep': ['UK_Tmean_data.txt'], 'targets': ['UK_Tmean_data.reformatted.txt'], 'actions': ['python reformat_weather_data.py %(dependencies)s > %(targets)s']}\n"
       ]
      }
     ],
     "prompt_number": 7
    },
    {
     "cell_type": "markdown",
     "metadata": {},
     "source": [
      "\uc791\uc5c5 \uba85\uce6d\uc744 \uc815\uc758\ud574\uc57c\ub9cc \ud55c\ub2e4\uace0 `Doit`\uc774 \uc54c\ub824\uc900\ub2e4. \uc774\uc720\ub294 \uc791\uc5c5\uc774 \uc9c1\uc811\uc801\uc73c\ub85c \ub2e4\ub978 \uc791\uc5c5\uc5d0 \uc758\uc874\ud560 \uc218 \uc788\uae30 \ub54c\ubb38\uc774\ub2e4. \uadf8\ub798\uc11c \uac01 \uc791\uc5c5\uc740 \uc720\uc77c\ud55c \uba85\uce6d\uc744 \uac00\uc838\uc57c\ub9cc\ud558\uace0, \uadf8\ub7fc\uc73c\ub85c\uc368 \uc758\uc874\uc131\uc73c\ub85c \ucc38\uc870\ub420 \uc218 \uc788\ub2e4.\n",
      "\n",
      "\uc774\uc81c \ub2e4\uc2dc \ud615\uc2dd\uc774 \ubc14\ub010 \ub370\uc774\ud130\ub97c \uc0b4\ud3b4\ubcf4\uc790."
     ]
    },
    {
     "cell_type": "code",
     "collapsed": false,
     "input": [
      "!tail UK_Tmean_data.reformatted.txt"
     ],
     "language": "python",
     "metadata": {},
     "outputs": [
      {
       "output_type": "stream",
       "stream": "stdout",
       "text": [
        "2012-03-01,6.4\r\n",
        "2012-04-01,8.3\r\n",
        "2012-05-01,11.3\r\n",
        "2012-06-01,13.7\r\n",
        "2012-07-01,15.7\r\n",
        "2012-08-01,15.7\r\n",
        "2012-09-01,13.3\r\n",
        "2012-10-01,10.5\r\n",
        "2012-11-01,7.0\r\n",
        "2012-12-01,5.3\r\n"
       ]
      }
     ],
     "prompt_number": 8
    },
    {
     "cell_type": "markdown",
     "metadata": {},
     "source": [
      "\ud30c\uc77c\uc5d0\uc11c \ub9c8\uc9c0\ub9c9 \ub370\uc774\ud130 \uad00\uce21\uc810\uc774 2012\ub144 12\uc6d4\uc5d0\uc11c \ub098\uc654\ub2e4. \uadf8\ub798\uc11c \uc544\ub9c8\ub3c4 \ub2e4\uc2dc \uc6d0\ub370\uc774\ud130\ub97c \ub2e4\uc6b4\ub85c\ub4dc\ud574\uc57c\ud55c\ub2e4. \uc774\ub7ec\ud55c \uc720\ud615\uc758 \uc791\uc5c5\uc774 \ub9ce\uc774 \ud558\uae30\ubcf4\ub2e4\ub294 \uc544\ub9c8\ub3c4 \uacb0\uad6d \uadf8\ub9cc\ub450\uc5b4\uc57c\ub418\ub294 \uc791\uc5c5\uc774\ub2e4. \uadf8\ub798\uc11c `doit`\uc774 \ucc98\ub9ac\ud558\ub3c4\ub85d \ud55c\ub2e4:"
     ]
    },
    {
     "cell_type": "code",
     "collapsed": false,
     "input": [
      "%%doit\n",
      "\n",
      "# download_temp_data.py\n",
      "\n",
      "import datetime\n",
      "from doit.tools import timeout \n",
      "\n",
      "data_sets = ['Tmean', 'Sunshine']\n",
      "\n",
      "def task_get_temp_data():\n",
      "    \"\"\"Downloads the raw temperature data from the Met Office\"\"\"\n",
      "\n",
      "    return {\n",
      "        'actions': ['wget -O %(targets)s http://www.metoffice.gov.uk/climate/uk/datasets/Tmean/ranked/UK.txt'],\n",
      "        'targets': ['UK_Tmean_data.txt'],\n",
      "    }\n",
      "\n",
      "def task_reformat_data():\n",
      "    \"\"\"Reformats all raw files for easier analysis\"\"\"\n",
      "\n",
      "    for data_type in data_sets:\n",
      "        yield {\n",
      "            'actions': ['python reformat_weather_data.py %(dependencies)s > %(targets)s'],\n",
      "            'file_dep': ['UK_{}_data.txt'.format(data_type)],\n",
      "            'targets': ['UK_{}_data.reformatted.txt'.format(data_type)],\n",
      "            'name': 'UK_{}_data.txt'.format(data_type),\n",
      "        }"
     ],
     "language": "python",
     "metadata": {},
     "outputs": [
      {
       "output_type": "stream",
       "stream": "stdout",
       "text": [
        ".  get_temp_data\n",
        "-- reformat_data:UK_Sunshine_data.txt\n",
        ".  reformat_data:UK_Tmean_data.txt\n"
       ]
      },
      {
       "output_type": "stream",
       "stream": "stderr",
       "text": [
        "--2014-04-05 12:08:16--  http://www.metoffice.gov.uk/climate/uk/datasets/Tmean/ranked/UK.txt\n",
        "Resolving www.metoffice.gov.uk (www.metoffice.gov.uk)... 23.63.99.234, 23.63.99.216\n",
        "Connecting to www.metoffice.gov.uk (www.metoffice.gov.uk)|23.63.99.234|:80... connected.\n",
        "HTTP request sent, awaiting response... 200 OK\n",
        "Length: 25576 (25K) [text/plain]\n",
        "Saving to: \u2018UK_Tmean_data.txt\u2019\n",
        "\n",
        "     0K .......... .......... ....                            100% 2.15M=0.01s\n",
        "\n",
        "2014-04-05 12:08:16 (2.15 MB/s) - \u2018UK_Tmean_data.txt\u2019 saved [25576/25576]\n",
        "\n"
       ]
      }
     ],
     "prompt_number": 9
    },
    {
     "cell_type": "markdown",
     "metadata": {},
     "source": [
      "\uc601\uad6d \uae30\uc0c1\uccad \uc6f9\uc0ac\uc774\ud2b8\uc5d0\uc11c \uae30\uc628 \ub370\uc774\ud130 \ucd5c\uc2e0 \ubc84\uc83c\uc744 \ub2e4\uc6b4\ub85c\ub4dc\ud558\ub294 \uc0c8\ub85c\uc6b4 \uc791\uc5c5\uc744 \ucd94\uac00\ud574\uc11c, `doit`\uc774 \uc9c0\uc2dc\uc791\uc5c5\uc744 \ub530\ub77c\uc11c \ud30c\uc77c\uc744 \ub2e4\uc6b4\ub85c\ub4dc\ud55c\ub2e4. \uadf8\ub9ac\uace0\ub098\uc11c \ub370\uc774\ud130 \ud615\uc2dd\uc744 \ubc14\uafb8\ub294 \uc791\uc5c5\uc73c\ub85c \uc9c4\ud589\ub41c\ub2e4.\n",
      "\uc77c\uc870\uc2dc\uac04 \ub370\uc774\ud130\ub294 \ubcc0\uacbd\ub41c \uac83\uc774 \uc5c6\uc5b4\uc11c, \ud615\uc2dd\uc774 \ub2e4\uc2dc \ubc14\ub00c\uc9c0 \uc54a\ub294\ub2e4. \ud558\uc9c0\ub9cc, \ud3c9\uade0 \uae30\uc628 \ud30c\uc77c \uc0c8\ubc84\uc83c\uc774 \ub098\uc640\uc11c,\n",
      "`doit`\uc774 \uc790\ub3d9\uc73c\ub85c `UK_Tmean_data.reformatted.txt` \ud30c\uc77c\uc744 \ub2e4\uc2dc \uc0dd\uc131\ud588\ub2e4."
     ]
    },
    {
     "cell_type": "code",
     "collapsed": false,
     "input": [
      "!tail UK_Tmean_data.reformatted.txt"
     ],
     "language": "python",
     "metadata": {},
     "outputs": [
      {
       "output_type": "stream",
       "stream": "stdout",
       "text": [
        "2013-03-01,5.1\r\n",
        "2013-04-01,7.0\r\n",
        "2013-05-01,10.0\r\n",
        "2013-06-01,12.8\r\n",
        "2013-07-01,14.5\r\n",
        "2013-08-01,14.4\r\n",
        "2013-09-01,12.4\r\n",
        "2013-10-01,9.2\r\n",
        "2013-11-01,5.7\r\n",
        "2013-12-01,3.9\r\n"
       ]
      }
     ],
     "prompt_number": 10
    },
    {
     "cell_type": "markdown",
     "metadata": {},
     "source": [
      "\uc774\uc81c \ub370\uc774\ud130\uc5d0 2013\ub144\ubd80\ud130 \ubaa8\ub4e0 \uc815\ubcf4\uac00 \ub2f4\uaca8\uc84c\ub2e4."
     ]
    },
    {
     "cell_type": "heading",
     "level": 3,
     "metadata": {},
     "source": [
      "\ub3c4\uc804\uacfc\uc81c:"
     ]
    },
    {
     "cell_type": "markdown",
     "metadata": {},
     "source": [
      "\uae30\uc628\uacfc \uc77c\uc870\uc2dc\uac04 \ub370\uc774\ud130 \ubaa8\ub450\ub97c \ub2e4\uc6b4\ub85c\ub4dc\ud558\ub294\ub370 \ubd80\uacfc\uc5c5\uc744 \uc0ac\uc6a9\ud574\uc11c `download_temp_data.py` \ud30c\uc77c\uc744 \ud3b8\uc9d1\ud558\ub77c."
     ]
    },
    {
     "cell_type": "code",
     "collapsed": false,
     "input": [],
     "language": "python",
     "metadata": {},
     "outputs": [],
     "prompt_number": 10
    }
   ],
   "metadata": {}
  }
 ]
}